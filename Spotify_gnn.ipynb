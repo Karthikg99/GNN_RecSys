{
 "cells": [
  {
   "cell_type": "code",
   "execution_count": 1,
   "metadata": {},
   "outputs": [],
   "source": [
    "import json\n",
    "import os\n",
    "from pathlib import Path\n",
    "from os.path import isfile, join\n",
    "import pickle\n",
    "import random\n",
    "import pandas as pd\n",
    "from tqdm import tqdm\n",
    "import numpy as np\n",
    "import dgl\n",
    "from sklearn.metrics import f1_score, roc_auc_score\n",
    "\n",
    "from typing import Optional, Union\n",
    "\n",
    "import torch \n",
    "from torch import Tensor\n",
    "import torch.nn as nn\n",
    "from torch.nn import Embedding, ModuleList\n",
    "import torch.nn.functional as F\n",
    "\n",
    "import torch_geometric\n",
    "import torch_geometric.nn as pyg_nn\n",
    "from torch_geometric.data import Data, HeteroData\n",
    "from torch_geometric.transforms import RandomLinkSplit\n",
    "import torch_geometric.transforms as T\n",
    "from torch_geometric.nn import HGTConv, Linear\n",
    "from torch.nn.modules.loss import _Loss\n",
    "from torch_geometric.typing import Adj, OptTensor, SparseTensor"
   ]
  },
  {
   "cell_type": "code",
   "execution_count": 2,
   "metadata": {},
   "outputs": [],
   "source": [
    "seed = 12345\n",
    "torch.manual_seed(seed)\n",
    "np.random.seed(seed)\n",
    "random.seed(seed)"
   ]
  },
  {
   "cell_type": "code",
   "execution_count": 4,
   "metadata": {},
   "outputs": [],
   "source": [
    "\"\"\"\n",
    "Here we define classes for the data that we are going to load. The data is stored in JSON files, each\n",
    "which contain playlists, which themselves contain tracks. Thus, we define three classes: \n",
    "  Track       --> contains information for a specific track (its id, name, etc.)\n",
    "  Playlist    --> contains information for a specific playlist (its id, name, etc. as well as a list of Tracks)\n",
    "  JSONFile    --> contains the loaded json file and stores a dictionary of all of the Playlists \n",
    "  Artists     --> contains information on the artist for a specific track(its id, name, etc.)\n",
    "\n",
    "\"\"\"\n",
    "class Artist:\n",
    "  \n",
    "  def __init__(self, track_dict, playlist):\n",
    "    self.uri = track_dict[\"artist_uri\"]\n",
    "    self.name = track_dict[\"artist_name\"]\n",
    "    self.track_uri = track_dict[\"track_uri\"]\n",
    "    self.track_name = track_dict[\"track_name\"]\n",
    "    self.playlist = playlist\n",
    "\n",
    "    def __str__(self):\n",
    "      return f\"Artist {self.uri} called {self.name} composed {self.track_uri} ({self.track_name}) in playlist {self.playlist}.\"\n",
    "    \n",
    "    def __repr__(self):\n",
    "      return f\"Artist {self.uri}\"\n",
    "      \n",
    "class Track: \n",
    "  \"\"\" \n",
    "  Simple class for a track, containing its attributes: \n",
    "    1. URI (a unique id)\n",
    "    2. Name\n",
    "    3. Artist info (URI and name)\n",
    "    4. Parent playlist\n",
    "  \"\"\"\n",
    "  \n",
    "  def __init__(self, track_dict, playlist):\n",
    "    self.uri = track_dict[\"track_uri\"]\n",
    "    self.name = track_dict[\"track_name\"]\n",
    "    self.artist_uri = track_dict[\"artist_uri\"]\n",
    "    self.artist_name = track_dict[\"artist_name\"]\n",
    "    self.playlist = playlist\n",
    "  \n",
    "  def __str__(self):\n",
    "    return f\"Track {self.uri} called {self.name} by {self.artist_uri} ({self.artist_name}) in playlist {self.playlist}.\"\n",
    "  \n",
    "  def __repr__(self):\n",
    "    return f\"Track {self.uri}\"\n",
    "\n",
    "class Playlist: \n",
    "  \"\"\" \n",
    "  Simple class for a playlist, containing its attributes: \n",
    "    1. Name (playlist and its associated index)\n",
    "    2. Title (playlist title in the Spotify dataset)\n",
    "    3. Loaded dictionary from the raw json for the playlist\n",
    "    4. Dictionary of tracks (track_uri : Track), populated by .load_tracks()\n",
    "    5. List of artists uris\n",
    "  \"\"\"\n",
    "\n",
    "  def __init__(self, json_data, index):\n",
    "\n",
    "    self.name = f\"playlist_{index}\"\n",
    "    self.title = json_data[\"name\"]\n",
    "    self.data = json_data\n",
    "\n",
    "    self.tracks = {}\n",
    "    self.artists = {}\n",
    "  \n",
    "  def load_tracks(self):\n",
    "    \"\"\" Call this function to load all of the tracks in the json data for the playlist.\"\"\"\n",
    "\n",
    "    tracks_list = self.data[\"tracks\"]\n",
    "    self.tracks = {x[\"track_uri\"] : Track(x, self.name) for x in tracks_list}\n",
    "    self.artists = {x[\"artist_uri\"] : Artist(x,self.name) for x in tracks_list}\n",
    "\n",
    "  def __str__(self):\n",
    "    return f\"Playlist {self.name} with {len(self.tracks)} tracks loaded.\"\n",
    "  \n",
    "  def __repr__(self):\n",
    "    return f\"Playlist {self.name}\"\n",
    "\n",
    "class JSONFile: \n",
    "  \"\"\" \n",
    "  Simple class for a JSON file, containing its attributes: \n",
    "    1. File Name \n",
    "    2. Index to begin numbering playlists at \n",
    "    3. Loaded dictionary from the raw json for the full file\n",
    "    4. Dictionary of playlists (name : Playlist), populated by .process_file()\n",
    "  \"\"\"\n",
    "\n",
    "  def __init__(self, data_path, file_name, start_index):\n",
    "\n",
    "    self.file_name = file_name \n",
    "    self.start_index = start_index\n",
    "\n",
    "    with open(join(data_path, file_name)) as json_file:\n",
    "      json_data = json.load(json_file)\n",
    "    self.data = json_data \n",
    "\n",
    "    self.playlists = {}\n",
    "\n",
    "  def process_file(self):\n",
    "    \"\"\" Call this function to load all of the playlists in the json data.\"\"\"\n",
    "\n",
    "    for i, playlist_json in enumerate(self.data[\"playlists\"]):\n",
    "      playlist = Playlist(playlist_json, self.start_index + i)\n",
    "      playlist.load_tracks()\n",
    "      self.playlists[playlist.name] = playlist\n",
    "\n",
    "  def __str__(self):\n",
    "    return f\"JSON {self.file_name} has {len(self.playlists)} playlists loaded.\"\n",
    "  \n",
    "  def __repr__(self):\n",
    "    return self.file_name\n"
   ]
  },
  {
   "cell_type": "code",
   "execution_count": 6,
   "metadata": {},
   "outputs": [
    {
     "name": "stderr",
     "output_type": "stream",
     "text": [
      "Files processed: 100%|██████████| 30/30 [00:05<00:00,  5.90files/s]\n"
     ]
    }
   ],
   "source": [
    "DATA_PATH = Path('/home/kganapa/projects/Spotify_playlists_101')\n",
    "N_FILES_TO_USE = 30\n",
    "\n",
    "file_names = sorted(os.listdir(DATA_PATH))\n",
    "file_names_to_use = file_names[:N_FILES_TO_USE]\n",
    "\n",
    "n_playlists = 0 \n",
    "\n",
    "# load each json file, and store it in a list of files\n",
    "JSONs = []\n",
    "for file_name in tqdm(file_names_to_use, desc='Files processed: ', unit='files', total=len(file_names_to_use)):\n",
    "  json_file = JSONFile(DATA_PATH, file_name, n_playlists)\n",
    "  json_file.process_file()\n",
    "  n_playlists += len(json_file.playlists)\n",
    "  JSONs.append(json_file)"
   ]
  },
  {
   "cell_type": "code",
   "execution_count": 7,
   "metadata": {},
   "outputs": [
    {
     "name": "stderr",
     "output_type": "stream",
     "text": [
      "100%|██████████| 30/30 [00:00<00:00, 140.68it/s]\n"
     ]
    }
   ],
   "source": [
    "playlist_data = {}\n",
    "playlists = []\n",
    "tracks = []\n",
    "artists = []\n",
    "\n",
    "# build list of playlists, tracks, artists\n",
    "for json_file in tqdm(JSONs): \n",
    "  playlists += [p.name for p in json_file.playlists.values()]\n",
    "  tracks += [track.uri for playlist in json_file.playlists.values() for track in list(playlist.tracks.values())]\n",
    "  artists += [artist.uri for playlist in json_file.playlists.values() for artist in list(playlist.artists.values())]\n",
    "  playlist_data = playlist_data | json_file.playlists"
   ]
  },
  {
   "cell_type": "code",
   "execution_count": 8,
   "metadata": {},
   "outputs": [],
   "source": [
    "# build unique list of tracks , artists\n",
    "tracks = list(set(tracks))\n",
    "artists = list(set(artists))"
   ]
  },
  {
   "cell_type": "code",
   "execution_count": 9,
   "metadata": {},
   "outputs": [
    {
     "name": "stdout",
     "output_type": "stream",
     "text": [
      "No of Playlists:30000, No of tracks: 339283, No of artists:62380\n"
     ]
    }
   ],
   "source": [
    "print(f\"No of Playlists:{len(playlists)}, No of tracks: {len(tracks)}, No of artists:{len(artists)}\")"
   ]
  },
  {
   "cell_type": "code",
   "execution_count": 10,
   "metadata": {},
   "outputs": [],
   "source": [
    "# Create a track-artist key-value pair\n",
    "track_artist = {}\n",
    "for json_files in JSONs:\n",
    "      for playlist in json_files.playlists.values():\n",
    "            for track in playlist.tracks.values():\n",
    "                  if track.uri not in track_artist.keys():\n",
    "                        track_artist[track.uri] = track.artist_uri"
   ]
  },
  {
   "cell_type": "code",
   "execution_count": 11,
   "metadata": {},
   "outputs": [],
   "source": [
    "# Create a heterogenous graph from the data\n",
    "playlists_2idx = {playlist: idx for idx, playlist in enumerate(playlists)}\n",
    "tracks_2idx = {track: idx for idx, track in enumerate(tracks)}\n",
    "artists_2idx = {artist: idx for idx, artist in enumerate(artists)}"
   ]
  },
  {
   "cell_type": "code",
   "execution_count": 12,
   "metadata": {},
   "outputs": [],
   "source": [
    "playlist_track_edges = []\n",
    "for p_name, playlist in playlist_data.items(): \n",
    "  playlist_track_edges += [(p_name, t) for t in playlist.tracks]\n",
    "playlist_artist_edges = []\n",
    "for p_name, playlist in playlist_data.items():\n",
    "  playlist_artist_edges += [(p_name, a) for a in playlist.artists]\n",
    "track_artist_edges = []\n",
    "for track, artist in track_artist.items():\n",
    "  track_artist_edges.append((track, artist))"
   ]
  },
  {
   "cell_type": "code",
   "execution_count": 13,
   "metadata": {},
   "outputs": [],
   "source": [
    "playlist_track_edges_idx = tuple(torch.tensor([playlists_2idx[pl], tracks_2idx[track]]) for pl, track in playlist_track_edges)\n",
    "playlist_artist_edges_idx = tuple(torch.tensor([playlists_2idx[pl], artists_2idx[artist]]) for pl, artist in playlist_artist_edges)\n",
    "track_artist_edges_idx = tuple(torch.tensor([tracks_2idx[track], artists_2idx[artist]]) for track, artist in track_artist_edges)"
   ]
  },
  {
   "cell_type": "code",
   "execution_count": 14,
   "metadata": {},
   "outputs": [],
   "source": [
    "playlist_track_edges_idx = tuple(torch.cat([t[i].unsqueeze(0) for t in playlist_track_edges_idx]) for i in range(len(playlist_track_edges_idx[0])))\n",
    "playlist_artist_edges_idx = tuple(torch.cat([t[i].unsqueeze(0) for t in playlist_artist_edges_idx]) for i in range(len(playlist_artist_edges_idx[0])))\n",
    "track_artist_edges_idx = tuple(torch.cat([t[i].unsqueeze(0) for t in track_artist_edges_idx]) for i in range(len(track_artist_edges_idx[0])))"
   ]
  },
  {
   "cell_type": "code",
   "execution_count": 16,
   "metadata": {},
   "outputs": [
    {
     "name": "stdout",
     "output_type": "stream",
     "text": [
      "HeteroData(\n",
      "  playlist={\n",
      "    node_id=[30000],\n",
      "    x=[30000, 128],\n",
      "  },\n",
      "  track={\n",
      "    node_id=[339283],\n",
      "    x=[339283, 64],\n",
      "  },\n",
      "  artist={\n",
      "    node_id=[62380],\n",
      "    x=[62380, 32],\n",
      "  },\n",
      "  (playlist, contains_track, track)={ edge_index=[2, 1985474] },\n",
      "  (playlist, contains_artist, artist)={ edge_index=[2, 1147878] },\n",
      "  (track, by, artist)={ edge_index=[2, 339283] }\n",
      ")\n"
     ]
    }
   ],
   "source": [
    "# Convert data to Hetero Data object with  Pyg Library , see of we can create a subgraph with lesser nodes\n",
    "hetero_graph = HeteroData()\n",
    "\n",
    "hetero_graph[\"playlist\"].node_id = torch.arange(len(playlists))\n",
    "hetero_graph[\"track\"].node_id = torch.arange(len(tracks))\n",
    "hetero_graph[\"artist\"].node_id = torch.arange(len(artists))\n",
    "\n",
    "hetero_graph[\"playlist\"].x = torch.randn(len(playlists), 128)\n",
    "hetero_graph[\"track\"].x = torch.randn(len(tracks), 64)\n",
    "hetero_graph[\"artist\"].x = torch.randn(len(artists), 32)\n",
    "\n",
    "\n",
    "hetero_graph['playlist', 'contains_track', 'track'].edge_index = torch.stack(playlist_track_edges_idx)\n",
    "hetero_graph['playlist', 'contains_artist', 'artist'].edge_index = torch.stack(playlist_artist_edges_idx)\n",
    "hetero_graph['track', 'by', 'artist'].edge_index = torch.stack(track_artist_edges_idx)\n",
    "\n",
    "\n",
    "\n",
    "print(hetero_graph)"
   ]
  },
  {
   "cell_type": "code",
   "execution_count": 17,
   "metadata": {},
   "outputs": [],
   "source": [
    "if torch.cuda.is_available():\n",
    "    device = torch.device('cuda')\n",
    "else:\n",
    "    device = torch.device('cpu')\n",
    "\n",
    "# hetero_graph = hetero_graph.to(device)\n",
    "hetero_graph = T.ToUndirected()(hetero_graph)"
   ]
  },
  {
   "cell_type": "code",
   "execution_count": 25,
   "metadata": {},
   "outputs": [],
   "source": [
    "# training (80%), validation (10%), and testing edges (10%)\n",
    "# In training edges, 70% used for message passing , 30% edges for supervision\n",
    "\n",
    "transform = T.RandomLinkSplit(\n",
    "    num_val=0.1,\n",
    "    num_test=0.1,\n",
    "    disjoint_train_ratio=0.3,\n",
    "    neg_sampling_ratio=1.0,\n",
    "    add_negative_train_samples=True,\n",
    "    split_labels=True,\n",
    "    is_undirected=True, \n",
    "    edge_types=[('playlist', 'contains_track', 'track')]\n",
    ")\n",
    "\n",
    "train_data, val_data, test_data = transform(hetero_graph)"
   ]
  },
  {
   "cell_type": "code",
   "execution_count": 28,
   "metadata": {},
   "outputs": [
    {
     "data": {
      "text/plain": [
       "HeteroData(\n",
       "  playlist={\n",
       "    node_id=[30000],\n",
       "    x=[30000, 128],\n",
       "  },\n",
       "  track={\n",
       "    node_id=[339283],\n",
       "    x=[339283, 64],\n",
       "  },\n",
       "  artist={\n",
       "    node_id=[62380],\n",
       "    x=[62380, 32],\n",
       "  },\n",
       "  (playlist, contains_track, track)={\n",
       "    edge_index=[2, 1111866],\n",
       "    pos_edge_label=[476514],\n",
       "    pos_edge_label_index=[2, 476514],\n",
       "    neg_edge_label=[476514],\n",
       "    neg_edge_label_index=[2, 476514],\n",
       "  },\n",
       "  (playlist, contains_artist, artist)={ edge_index=[2, 1147878] },\n",
       "  (track, by, artist)={ edge_index=[2, 339283] },\n",
       "  (track, rev_contains_track, playlist)={ edge_index=[2, 1985474] },\n",
       "  (artist, rev_contains_artist, playlist)={ edge_index=[2, 1147878] },\n",
       "  (artist, rev_by, track)={ edge_index=[2, 339283] }\n",
       ")"
      ]
     },
     "execution_count": 28,
     "metadata": {},
     "output_type": "execute_result"
    }
   ],
   "source": [
    "train_data"
   ]
  },
  {
   "cell_type": "code",
   "execution_count": 42,
   "metadata": {},
   "outputs": [
    {
     "data": {
      "text/plain": [
       "HeteroData(\n",
       "  playlist={\n",
       "    node_id=[30000],\n",
       "    x=[30000, 128],\n",
       "  },\n",
       "  track={\n",
       "    node_id=[339283],\n",
       "    x=[339283, 64],\n",
       "  },\n",
       "  artist={\n",
       "    node_id=[62380],\n",
       "    x=[62380, 32],\n",
       "  },\n",
       "  (playlist, contains_track, track)={\n",
       "    edge_index=[2, 1111866],\n",
       "    pos_edge_label=[476514],\n",
       "    pos_edge_label_index=[2, 476514],\n",
       "    neg_edge_label=[476514],\n",
       "    neg_edge_label_index=[2, 476514],\n",
       "  },\n",
       "  (playlist, contains_artist, artist)={ edge_index=[2, 1147878] },\n",
       "  (track, by, artist)={ edge_index=[2, 339283] },\n",
       "  (track, rev_contains_track, playlist)={ edge_index=[2, 1985474] },\n",
       "  (artist, rev_contains_artist, playlist)={ edge_index=[2, 1147878] },\n",
       "  (artist, rev_by, track)={ edge_index=[2, 339283] },\n",
       "  (playlist, contains, track)={}\n",
       ")"
      ]
     },
     "execution_count": 42,
     "metadata": {},
     "output_type": "execute_result"
    }
   ],
   "source": [
    "train_data"
   ]
  },
  {
   "cell_type": "code",
   "execution_count": 43,
   "metadata": {},
   "outputs": [
    {
     "data": {
      "text/plain": [
       "torch.Size([2, 1111866])"
      ]
     },
     "execution_count": 43,
     "metadata": {},
     "output_type": "execute_result"
    }
   ],
   "source": []
  },
  {
   "cell_type": "code",
   "execution_count": 40,
   "metadata": {},
   "outputs": [
    {
     "data": {
      "text/plain": [
       "tensor([[  7608,   4441,   8289,  ...,  24546,   8501,  10283],\n",
       "        [258210, 152721, 157983,  ..., 123668, 112371, 149556]])"
      ]
     },
     "execution_count": 40,
     "metadata": {},
     "output_type": "execute_result"
    }
   ],
   "source": [
    "train_data['playlist', 'contains_track', 'track'].neg_edge_label_index"
   ]
  },
  {
   "cell_type": "code",
   "execution_count": 56,
   "metadata": {},
   "outputs": [],
   "source": [
    "class HGT(torch.nn.Module):\n",
    "    def __init__(self, hidden_channels, num_heads, num_layers):\n",
    "        super().__init__()\n",
    "\n",
    "        self.lin_dict = torch.nn.ModuleDict()\n",
    "        for node_type in hetero_graph.node_types:\n",
    "            self.lin_dict[node_type] = Linear(-1, hidden_channels)\n",
    "\n",
    "        self.convs = torch.nn.ModuleList()\n",
    "        for _ in range(num_layers):\n",
    "            conv = HGTConv(hidden_channels, hidden_channels, hetero_graph.metadata(),\n",
    "                           num_heads)\n",
    "            self.convs.append(conv)\n",
    "\n",
    "    def forward(self, x_dict, edge_index_dict):\n",
    "        x_dict = {\n",
    "            node_type: self.lin_dict[node_type](x).relu_()\n",
    "            for node_type, x in x_dict.items()\n",
    "        }\n",
    "\n",
    "        for conv in self.convs:\n",
    "            x_dict = conv(x_dict, edge_index_dict)\n",
    "\n",
    "        return x_dict\n",
    "\n",
    "class Classifier(torch.nn.Module):\n",
    "\n",
    "    def forward(self, x_dict, edge_label_index):\n",
    "        # Get Node embeddings to compute edge feature\n",
    "        edge_feat_playlist = x_dict[\"playlist\"][edge_label_index[0]]\n",
    "        edge_feat_track = x_dict[\"track\"][edge_label_index[1]]\n",
    "\n",
    "        # Apply dot-product to get a prediction per supervision edge:\n",
    "        return (edge_feat_playlist * edge_feat_track).sum(dim=-1)\n",
    "\n",
    "\n",
    "class Model(torch.nn.Module):\n",
    "\n",
    "    def __init__(self, hidden_channels, num_heads, num_layers):\n",
    "        super().__init__()\n",
    "\n",
    "        self.rgnn = HGT(hidden_channels, num_heads, num_layers)\n",
    "\n",
    "        self.classifier = Classifier()\n",
    "\n",
    "    def forward(self, data):\n",
    "\n",
    "        x_dict = self.rgnn(data.x_dict, data.edge_index_dict)\n",
    "        pos_pred = self.classifier(x_dict, data['playlist', 'contains_track', 'track'].pos_edge_label_index)\n",
    "        neg_pred = self.classifier(x_dict, data['playlist', 'contains_track', 'track'].neg_edge_label_index)\n",
    "\n",
    "        return pos_pred, neg_pred\n",
    "\n",
    "model = Model(hidden_channels=64, num_heads=2, num_layers=1)\n",
    "model = model.to(device)\n",
    "\n",
    "with torch.no_grad():  # Initialize lazy modules.\n",
    "    out = model(train_data.to(device))\n",
    "\n",
    "optimizer = torch.optim.Adam(model.parameters(), lr=0.001, weight_decay=0.001)"
   ]
  },
  {
   "cell_type": "code",
   "execution_count": 17,
   "metadata": {},
   "outputs": [],
   "source": [
    "# train_loader = NeighborLoader(\n",
    "#     train_data,\n",
    "#     # Sample 512 nodes per type and per iteration for 4 iterations\n",
    "#     num_neighbors=[128] * 2,\n",
    "#     # Use a batch size of 128 for sampling training nodes of type paper\n",
    "#     batch_size=128,\n",
    "#     input_nodes='playlist',\n",
    "# )\n",
    "# val_loader = NeighborLoader(\n",
    "#     val_data,\n",
    "#     # Sample 512 nodes per type and per iteration for 4 iterations\n",
    "#     num_neighbors=[128] * 2,\n",
    "#     # Use a batch size of 128 for sampling training nodes of type paper\n",
    "#     batch_size=128,\n",
    "#     input_nodes='playlist',\n",
    "# )\n",
    "\n",
    "# val_loader = HGTLoader(\n",
    "#     val_data,\n",
    "#     # Sample 512 nodes per type and per iteration for 4 iterations\n",
    "#     num_samples={key: [512] * 4 for key in val_data.node_types},\n",
    "#     # Use a batch size of 128 for sampling training nodes of type paper\n",
    "#     batch_size=128,\n",
    "#     input_nodes=('playlist'),\n",
    "# )\n",
    "# train_loader = DataLoader(train_data, batch_size=128, shuffle=True)\n",
    "# val_loader = DataLoader(val_data, batch_size=128, shuffle=True)"
   ]
  },
  {
   "cell_type": "code",
   "execution_count": 57,
   "metadata": {},
   "outputs": [
    {
     "name": "stdout",
     "output_type": "stream",
     "text": [
      "Epoch: 001, Train Loss: 0.7007, Val Loss: 0.6974, Val AUC: 0.5591\n",
      "Epoch: 002, Train Loss: 0.6950, Val Loss: 0.6930, Val AUC: 0.5850\n",
      "Epoch: 003, Train Loss: 0.6897, Val Loss: 0.6887, Val AUC: 0.6117\n",
      "Epoch: 004, Train Loss: 0.6847, Val Loss: 0.6846, Val AUC: 0.6391\n",
      "Epoch: 005, Train Loss: 0.6797, Val Loss: 0.6804, Val AUC: 0.6668\n",
      "Epoch: 006, Train Loss: 0.6745, Val Loss: 0.6760, Val AUC: 0.6941\n",
      "Epoch: 007, Train Loss: 0.6691, Val Loss: 0.6713, Val AUC: 0.7198\n",
      "Epoch: 008, Train Loss: 0.6632, Val Loss: 0.6661, Val AUC: 0.7427\n",
      "Epoch: 009, Train Loss: 0.6567, Val Loss: 0.6603, Val AUC: 0.7619\n",
      "Epoch: 010, Train Loss: 0.6495, Val Loss: 0.6538, Val AUC: 0.7769\n",
      "Epoch: 011, Train Loss: 0.6414, Val Loss: 0.6466, Val AUC: 0.7881\n",
      "Epoch: 012, Train Loss: 0.6325, Val Loss: 0.6387, Val AUC: 0.7962\n",
      "Epoch: 013, Train Loss: 0.6226, Val Loss: 0.6300, Val AUC: 0.8021\n",
      "Epoch: 014, Train Loss: 0.6119, Val Loss: 0.6207, Val AUC: 0.8065\n",
      "Epoch: 015, Train Loss: 0.6006, Val Loss: 0.6110, Val AUC: 0.8098\n",
      "Epoch: 016, Train Loss: 0.5889, Val Loss: 0.6014, Val AUC: 0.8124\n",
      "Epoch: 017, Train Loss: 0.5775, Val Loss: 0.5924, Val AUC: 0.8144\n",
      "Epoch: 018, Train Loss: 0.5672, Val Loss: 0.5849, Val AUC: 0.8159\n",
      "Epoch: 019, Train Loss: 0.5587, Val Loss: 0.5794, Val AUC: 0.8172\n",
      "Epoch: 020, Train Loss: 0.5527, Val Loss: 0.5760, Val AUC: 0.8182\n",
      "Epoch: 021, Train Loss: 0.5492, Val Loss: 0.5739, Val AUC: 0.8190\n",
      "Epoch: 022, Train Loss: 0.5471, Val Loss: 0.5713, Val AUC: 0.8197\n",
      "Epoch: 023, Train Loss: 0.5445, Val Loss: 0.5667, Val AUC: 0.8204\n",
      "Epoch: 024, Train Loss: 0.5402, Val Loss: 0.5595, Val AUC: 0.8209\n",
      "Epoch: 025, Train Loss: 0.5337, Val Loss: 0.5502, Val AUC: 0.8215\n",
      "Epoch: 026, Train Loss: 0.5255, Val Loss: 0.5397, Val AUC: 0.8221\n",
      "Epoch: 027, Train Loss: 0.5165, Val Loss: 0.5291, Val AUC: 0.8227\n",
      "Epoch: 028, Train Loss: 0.5077, Val Loss: 0.5191, Val AUC: 0.8234\n",
      "Epoch: 029, Train Loss: 0.4996, Val Loss: 0.5098, Val AUC: 0.8243\n",
      "Epoch: 030, Train Loss: 0.4925, Val Loss: 0.5012, Val AUC: 0.8253\n",
      "Epoch: 031, Train Loss: 0.4860, Val Loss: 0.4932, Val AUC: 0.8266\n",
      "Epoch: 032, Train Loss: 0.4800, Val Loss: 0.4854, Val AUC: 0.8283\n",
      "Epoch: 033, Train Loss: 0.4742, Val Loss: 0.4778, Val AUC: 0.8306\n",
      "Epoch: 034, Train Loss: 0.4685, Val Loss: 0.4706, Val AUC: 0.8334\n",
      "Epoch: 035, Train Loss: 0.4630, Val Loss: 0.4640, Val AUC: 0.8367\n",
      "Epoch: 036, Train Loss: 0.4580, Val Loss: 0.4584, Val AUC: 0.8403\n",
      "Epoch: 037, Train Loss: 0.4536, Val Loss: 0.4540, Val AUC: 0.8442\n",
      "Epoch: 038, Train Loss: 0.4502, Val Loss: 0.4510, Val AUC: 0.8481\n",
      "Epoch: 039, Train Loss: 0.4477, Val Loss: 0.4493, Val AUC: 0.8519\n",
      "Epoch: 040, Train Loss: 0.4461, Val Loss: 0.4488, Val AUC: 0.8554\n",
      "Epoch: 041, Train Loss: 0.4454, Val Loss: 0.4489, Val AUC: 0.8587\n",
      "Epoch: 042, Train Loss: 0.4452, Val Loss: 0.4491, Val AUC: 0.8617\n",
      "Epoch: 043, Train Loss: 0.4452, Val Loss: 0.4491, Val AUC: 0.8644\n",
      "Epoch: 044, Train Loss: 0.4452, Val Loss: 0.4485, Val AUC: 0.8667\n",
      "Epoch: 045, Train Loss: 0.4449, Val Loss: 0.4474, Val AUC: 0.8688\n",
      "Epoch: 046, Train Loss: 0.4444, Val Loss: 0.4460, Val AUC: 0.8705\n",
      "Epoch: 047, Train Loss: 0.4437, Val Loss: 0.4445, Val AUC: 0.8720\n",
      "Epoch: 048, Train Loss: 0.4429, Val Loss: 0.4431, Val AUC: 0.8731\n",
      "Epoch: 049, Train Loss: 0.4421, Val Loss: 0.4418, Val AUC: 0.8741\n",
      "Epoch: 050, Train Loss: 0.4413, Val Loss: 0.4407, Val AUC: 0.8747\n",
      "Epoch: 051, Train Loss: 0.4405, Val Loss: 0.4398, Val AUC: 0.8752\n",
      "Epoch: 052, Train Loss: 0.4397, Val Loss: 0.4391, Val AUC: 0.8754\n",
      "Epoch: 053, Train Loss: 0.4389, Val Loss: 0.4385, Val AUC: 0.8754\n",
      "Epoch: 054, Train Loss: 0.4381, Val Loss: 0.4382, Val AUC: 0.8753\n",
      "Epoch: 055, Train Loss: 0.4375, Val Loss: 0.4380, Val AUC: 0.8752\n",
      "Epoch: 056, Train Loss: 0.4370, Val Loss: 0.4379, Val AUC: 0.8750\n",
      "Epoch: 057, Train Loss: 0.4365, Val Loss: 0.4379, Val AUC: 0.8748\n",
      "Epoch: 058, Train Loss: 0.4362, Val Loss: 0.4378, Val AUC: 0.8747\n",
      "Epoch: 059, Train Loss: 0.4360, Val Loss: 0.4378, Val AUC: 0.8748\n",
      "Epoch: 060, Train Loss: 0.4357, Val Loss: 0.4377, Val AUC: 0.8750\n",
      "Epoch: 061, Train Loss: 0.4355, Val Loss: 0.4375, Val AUC: 0.8754\n",
      "Epoch: 062, Train Loss: 0.4352, Val Loss: 0.4372, Val AUC: 0.8759\n",
      "Epoch: 063, Train Loss: 0.4349, Val Loss: 0.4367, Val AUC: 0.8766\n",
      "Epoch: 064, Train Loss: 0.4344, Val Loss: 0.4361, Val AUC: 0.8775\n",
      "Epoch: 065, Train Loss: 0.4339, Val Loss: 0.4354, Val AUC: 0.8785\n",
      "Epoch: 066, Train Loss: 0.4334, Val Loss: 0.4346, Val AUC: 0.8796\n",
      "Epoch: 067, Train Loss: 0.4328, Val Loss: 0.4337, Val AUC: 0.8808\n",
      "Epoch: 068, Train Loss: 0.4322, Val Loss: 0.4327, Val AUC: 0.8820\n",
      "Epoch: 069, Train Loss: 0.4315, Val Loss: 0.4316, Val AUC: 0.8832\n",
      "Epoch: 070, Train Loss: 0.4309, Val Loss: 0.4304, Val AUC: 0.8844\n",
      "Epoch: 071, Train Loss: 0.4302, Val Loss: 0.4292, Val AUC: 0.8855\n",
      "Epoch: 072, Train Loss: 0.4296, Val Loss: 0.4280, Val AUC: 0.8865\n",
      "Epoch: 073, Train Loss: 0.4290, Val Loss: 0.4268, Val AUC: 0.8875\n",
      "Epoch: 074, Train Loss: 0.4284, Val Loss: 0.4257, Val AUC: 0.8883\n",
      "Epoch: 075, Train Loss: 0.4279, Val Loss: 0.4246, Val AUC: 0.8890\n",
      "Epoch: 076, Train Loss: 0.4274, Val Loss: 0.4237, Val AUC: 0.8896\n",
      "Epoch: 077, Train Loss: 0.4270, Val Loss: 0.4228, Val AUC: 0.8901\n",
      "Epoch: 078, Train Loss: 0.4266, Val Loss: 0.4221, Val AUC: 0.8905\n",
      "Epoch: 079, Train Loss: 0.4263, Val Loss: 0.4214, Val AUC: 0.8909\n",
      "Epoch: 080, Train Loss: 0.4260, Val Loss: 0.4208, Val AUC: 0.8912\n",
      "Epoch: 081, Train Loss: 0.4256, Val Loss: 0.4203, Val AUC: 0.8914\n",
      "Epoch: 082, Train Loss: 0.4253, Val Loss: 0.4199, Val AUC: 0.8916\n",
      "Epoch: 083, Train Loss: 0.4251, Val Loss: 0.4196, Val AUC: 0.8917\n",
      "Epoch: 084, Train Loss: 0.4248, Val Loss: 0.4193, Val AUC: 0.8917\n",
      "Epoch: 085, Train Loss: 0.4245, Val Loss: 0.4191, Val AUC: 0.8918\n",
      "Epoch: 086, Train Loss: 0.4242, Val Loss: 0.4190, Val AUC: 0.8917\n",
      "Epoch: 087, Train Loss: 0.4240, Val Loss: 0.4190, Val AUC: 0.8917\n",
      "Epoch: 088, Train Loss: 0.4237, Val Loss: 0.4190, Val AUC: 0.8917\n",
      "Epoch: 089, Train Loss: 0.4235, Val Loss: 0.4190, Val AUC: 0.8916\n",
      "Epoch: 090, Train Loss: 0.4233, Val Loss: 0.4191, Val AUC: 0.8916\n",
      "Epoch: 091, Train Loss: 0.4231, Val Loss: 0.4191, Val AUC: 0.8916\n",
      "Epoch: 092, Train Loss: 0.4229, Val Loss: 0.4190, Val AUC: 0.8916\n",
      "Epoch: 093, Train Loss: 0.4227, Val Loss: 0.4189, Val AUC: 0.8917\n",
      "Epoch: 094, Train Loss: 0.4225, Val Loss: 0.4187, Val AUC: 0.8918\n",
      "Epoch: 095, Train Loss: 0.4223, Val Loss: 0.4185, Val AUC: 0.8919\n",
      "Epoch: 096, Train Loss: 0.4222, Val Loss: 0.4182, Val AUC: 0.8921\n",
      "Epoch: 097, Train Loss: 0.4220, Val Loss: 0.4179, Val AUC: 0.8923\n",
      "Epoch: 098, Train Loss: 0.4218, Val Loss: 0.4177, Val AUC: 0.8925\n",
      "Epoch: 099, Train Loss: 0.4216, Val Loss: 0.4174, Val AUC: 0.8927\n"
     ]
    }
   ],
   "source": [
    "def train(data):\n",
    "    model.train()\n",
    "    optimizer.zero_grad()\n",
    "    data = data.to(device)\n",
    "    pos_pred, neg_pred = model(data)\n",
    "\n",
    "    pos_ground_truth = data['playlist', 'contains_track', 'track'].pos_edge_label\n",
    "    neg_ground_truth = data['playlist', 'contains_track', 'track'].neg_edge_label\n",
    "    pos_loss = F.binary_cross_entropy_with_logits(pos_pred, pos_ground_truth)\n",
    "    neg_loss = F.binary_cross_entropy_with_logits(neg_pred, neg_ground_truth)\n",
    "    # loss = F.mse_loss(pred, ground_truth)\n",
    "    loss = (pos_loss + neg_loss)/2\n",
    "\n",
    "    loss.backward()\n",
    "    optimizer.step()\n",
    "\n",
    "    return float(loss)\n",
    "\n",
    "def test(data):\n",
    "    model.eval()\n",
    "    data = data.to(device)\n",
    "    with torch.no_grad():\n",
    "     pos_pred, neg_pred = model(data)\n",
    "\n",
    "    pos_ground_truth = data['playlist', 'contains_track', 'track'].pos_edge_label\n",
    "    neg_ground_truth = data['playlist', 'contains_track', 'track'].neg_edge_label\n",
    "    pos_loss = F.binary_cross_entropy_with_logits(pos_pred, pos_ground_truth)\n",
    "    neg_loss = F.binary_cross_entropy_with_logits(neg_pred, neg_ground_truth)\n",
    "    # loss = F.mse_loss(pred, ground_truth)\n",
    "    loss = (pos_loss + neg_loss)/2\n",
    "    auc = roc_auc_score(torch.cat((pos_ground_truth, neg_ground_truth)).detach().cpu().numpy(), torch.cat((pos_pred, neg_pred)).detach().cpu().numpy())\n",
    "    return float(loss), auc\n",
    "\n",
    "train_losses = []\n",
    "val_losses = []\n",
    "auces = []\n",
    "for epoch in range(1, 100):\n",
    "\n",
    "    train_loss = train(train_data)\n",
    "    val_loss, auc= test(val_data)\n",
    "    train_losses.append(train_loss)\n",
    "    val_losses.append(val_loss)\n",
    "    auces.append(auc)\n",
    "    print(f'Epoch: {epoch:03d}, Train Loss: {train_loss:.4f}, Val Loss: {val_loss:.4f}, Val AUC: {auc:.4f}')"
   ]
  },
  {
   "cell_type": "code",
   "execution_count": 58,
   "metadata": {},
   "outputs": [
    {
     "data": {
      "image/png": "[encoded data removed]",
      "text/plain": [
       "<Figure size 1000x600 with 1 Axes>"
      ]
     },
     "metadata": {},
     "output_type": "display_data"
    }
   ],
   "source": [
    "import matplotlib.pyplot as plt\n",
    "epochs = range(1,100)\n",
    "plt.figure(figsize=(10, 6))\n",
    "plt.plot(epochs, train_losses, label='Train Losses')\n",
    "plt.plot(epochs, val_losses, label='Validation Losses')\n",
    "plt.plot(epochs, auces, label='AUC')\n",
    "\n",
    "plt.title('Training and Validation Metrics Across Epochs')\n",
    "plt.xlabel('Epochs')\n",
    "plt.ylabel('Metric Value')\n",
    "plt.legend()\n",
    "plt.grid(True)\n",
    "plt.show()"
   ]
  }
 ],
 "metadata": {
  "kernelspec": {
   "display_name": "ml",
   "language": "python",
   "name": "ml"
  },
  "language_info": {
   "codemirror_mode": {
    "name": "ipython",
    "version": 3
   },
   "file_extension": ".py",
   "mimetype": "text/x-python",
   "name": "python",
   "nbconvert_exporter": "python",
   "pygments_lexer": "ipython3",
   "version": "3.10.12"
  }
 },
 "nbformat": 4,
 "nbformat_minor": 2
}
