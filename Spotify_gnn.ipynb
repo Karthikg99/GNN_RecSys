{
 "cells": [
  {
   "cell_type": "markdown",
   "metadata": {},
   "source": [
    "<h3>Library Imports </h3>"
   ]
  },
  {
   "cell_type": "code",
   "execution_count": 1,
   "metadata": {},
   "outputs": [
    {
     "name": "stderr",
     "output_type": "stream",
     "text": [
      "/home/kganapa/projects/ml/lib/python3.10/site-packages/tqdm/auto.py:21: TqdmWarning: IProgress not found. Please update jupyter and ipywidgets. See https://ipywidgets.readthedocs.io/en/stable/user_install.html\n",
      "  from .autonotebook import tqdm as notebook_tqdm\n"
     ]
    }
   ],
   "source": [
    "import json\n",
    "import os\n",
    "from pathlib import Path\n",
    "from os.path import isfile, join\n",
    "import random\n",
    "import pandas as pd\n",
    "from tqdm import tqdm\n",
    "import numpy as np\n",
    "from sklearn.metrics import roc_auc_score\n",
    "\n",
    "from typing import Optional, Union\n",
    "\n",
    "import torch \n",
    "from torch import Tensor\n",
    "import torch.nn as nn\n",
    "from torch.nn import Embedding, ModuleList\n",
    "import torch.nn.functional as F\n",
    "\n",
    "import torch_geometric\n",
    "from torch_geometric.data import HeteroData\n",
    "from torch_geometric.transforms import RandomLinkSplit\n",
    "import torch_geometric.transforms as T\n",
    "from torch_geometric.nn import HGTConv, Linear\n",
    "from torch_geometric.loader import HGTLoader\n",
    "from torch_geometric.metrics import LinkPredRecall"
   ]
  },
  {
   "cell_type": "code",
   "execution_count": 2,
   "metadata": {},
   "outputs": [],
   "source": [
    "seed = 12345\n",
    "torch.manual_seed(seed)\n",
    "np.random.seed(seed)\n",
    "random.seed(seed)"
   ]
  },
  {
   "cell_type": "markdown",
   "metadata": {},
   "source": [
    "<h3> Data store classes </h3>"
   ]
  },
  {
   "cell_type": "code",
   "execution_count": 3,
   "metadata": {},
   "outputs": [],
   "source": [
    "\"\"\"\n",
    "Here we define classes for the data that we are going to load. The data is stored in JSON files, each\n",
    "which contain playlists, which themselves contain tracks. Thus, we define three classes: \n",
    "  Track       --> contains information for a specific track (its id, name, etc.)\n",
    "  Playlist    --> contains information for a specific playlist (its id, name, etc. as well as a list of Tracks)\n",
    "  JSONFile    --> contains the loaded json file and stores a dictionary of all of the Playlists \n",
    "  Artists     --> contains information on the artist for a specific track(its id, name, etc.)\n",
    "\n",
    "\"\"\"\n",
    "class Artist:\n",
    "  \n",
    "  def __init__(self, track_dict, playlist):\n",
    "    self.uri = track_dict[\"artist_uri\"]\n",
    "    self.name = track_dict[\"artist_name\"]\n",
    "    self.track_uri = track_dict[\"track_uri\"]\n",
    "    self.track_name = track_dict[\"track_name\"]\n",
    "    self.playlist = playlist\n",
    "\n",
    "    def __str__(self):\n",
    "      return f\"Artist {self.uri} called {self.name} composed {self.track_uri} ({self.track_name}) in playlist {self.playlist}.\"\n",
    "    \n",
    "    def __repr__(self):\n",
    "      return f\"Artist {self.uri}\"\n",
    "      \n",
    "class Track: \n",
    "  \"\"\" \n",
    "  Simple class for a track, containing its attributes: \n",
    "    1. URI (a unique id)\n",
    "    2. Name\n",
    "    3. Artist info (URI and name)\n",
    "    4. Parent playlist\n",
    "  \"\"\"\n",
    "  \n",
    "  def __init__(self, track_dict, playlist):\n",
    "    self.uri = track_dict[\"track_uri\"]\n",
    "    self.name = track_dict[\"track_name\"]\n",
    "    self.artist_uri = track_dict[\"artist_uri\"]\n",
    "    self.artist_name = track_dict[\"artist_name\"]\n",
    "    self.playlist = playlist\n",
    "  \n",
    "  def __str__(self):\n",
    "    return f\"Track {self.uri} called {self.name} by {self.artist_uri} ({self.artist_name}) in playlist {self.playlist}.\"\n",
    "  \n",
    "  def __repr__(self):\n",
    "    return f\"Track {self.uri}\"\n",
    "\n",
    "class Playlist: \n",
    "  \"\"\" \n",
    "  Simple class for a playlist, containing its attributes: \n",
    "    1. Name (playlist and its associated index)\n",
    "    2. Title (playlist title in the Spotify dataset)\n",
    "    3. Loaded dictionary from the raw json for the playlist\n",
    "    4. Dictionary of tracks (track_uri : Track), populated by .load_tracks()\n",
    "    5. List of artists uris\n",
    "  \"\"\"\n",
    "\n",
    "  def __init__(self, json_data, index):\n",
    "\n",
    "    self.name = f\"playlist_{index}\"\n",
    "    self.title = json_data[\"name\"]\n",
    "    self.data = json_data\n",
    "\n",
    "    self.tracks = {}\n",
    "    self.artists = {}\n",
    "  \n",
    "  def load_tracks(self):\n",
    "    \"\"\" Call this function to load all of the tracks in the json data for the playlist.\"\"\"\n",
    "\n",
    "    tracks_list = self.data[\"tracks\"]\n",
    "    self.tracks = {x[\"track_uri\"] : Track(x, self.name) for x in tracks_list}\n",
    "    self.artists = {x[\"artist_uri\"] : Artist(x,self.name) for x in tracks_list}\n",
    "\n",
    "  def __str__(self):\n",
    "    return f\"Playlist {self.name} with {len(self.tracks)} tracks loaded.\"\n",
    "  \n",
    "  def __repr__(self):\n",
    "    return f\"Playlist {self.name}\"\n",
    "\n",
    "class JSONFile: \n",
    "  \"\"\" \n",
    "  Simple class for a JSON file, containing its attributes: \n",
    "    1. File Name \n",
    "    2. Index to begin numbering playlists at \n",
    "    3. Loaded dictionary from the raw json for the full file\n",
    "    4. Dictionary of playlists (name : Playlist), populated by .process_file()\n",
    "  \"\"\"\n",
    "\n",
    "  def __init__(self, data_path, file_name, start_index):\n",
    "\n",
    "    self.file_name = file_name \n",
    "    self.start_index = start_index\n",
    "\n",
    "    with open(join(data_path, file_name)) as json_file:\n",
    "      json_data = json.load(json_file)\n",
    "    self.data = json_data \n",
    "\n",
    "    self.playlists = {}\n",
    "\n",
    "  def process_file(self):\n",
    "    \"\"\" Call this function to load all of the playlists in the json data.\"\"\"\n",
    "\n",
    "    for i, playlist_json in enumerate(self.data[\"playlists\"]):\n",
    "      playlist = Playlist(playlist_json, self.start_index + i)\n",
    "      playlist.load_tracks()\n",
    "      self.playlists[playlist.name] = playlist\n",
    "\n",
    "  def __str__(self):\n",
    "    return f\"JSON {self.file_name} has {len(self.playlists)} playlists loaded.\"\n",
    "  \n",
    "  def __repr__(self):\n",
    "    return self.file_name\n"
   ]
  },
  {
   "cell_type": "markdown",
   "metadata": {},
   "source": [
    "<h3> Data processing </h3>"
   ]
  },
  {
   "cell_type": "code",
   "execution_count": 4,
   "metadata": {},
   "outputs": [
    {
     "name": "stderr",
     "output_type": "stream",
     "text": [
      "Files processed: 100%|██████████| 30/30 [00:05<00:00,  5.95files/s]\n"
     ]
    }
   ],
   "source": [
    "DATA_PATH = Path('/home/kganapa/projects/Spotify_playlists_101')\n",
    "N_FILES_TO_USE = 30\n",
    "\n",
    "file_names = sorted(os.listdir(DATA_PATH))\n",
    "file_names_to_use = file_names[:N_FILES_TO_USE]\n",
    "\n",
    "n_playlists = 0 \n",
    "\n",
    "# load each json file, and store it in a list of files\n",
    "JSONs = []\n",
    "for file_name in tqdm(file_names_to_use, desc='Files processed: ', unit='files', total=len(file_names_to_use)):\n",
    "  json_file = JSONFile(DATA_PATH, file_name, n_playlists)\n",
    "  json_file.process_file()\n",
    "  n_playlists += len(json_file.playlists)\n",
    "  JSONs.append(json_file)"
   ]
  },
  {
   "cell_type": "code",
   "execution_count": 5,
   "metadata": {},
   "outputs": [
    {
     "name": "stderr",
     "output_type": "stream",
     "text": [
      "100%|██████████| 30/30 [00:00<00:00, 182.24it/s]\n"
     ]
    }
   ],
   "source": [
    "playlist_data = {}\n",
    "playlists = []\n",
    "tracks = []\n",
    "artists = []\n",
    "\n",
    "# build list of playlists, tracks, artists\n",
    "for json_file in tqdm(JSONs): \n",
    "  playlists += [p.name for p in json_file.playlists.values()]\n",
    "  tracks += [track.uri for playlist in json_file.playlists.values() for track in list(playlist.tracks.values())]\n",
    "  artists += [artist.uri for playlist in json_file.playlists.values() for artist in list(playlist.artists.values())]\n",
    "  playlist_data = playlist_data | json_file.playlists"
   ]
  },
  {
   "cell_type": "code",
   "execution_count": 6,
   "metadata": {},
   "outputs": [],
   "source": [
    "# build unique list of tracks , artists\n",
    "tracks = list(set(tracks))\n",
    "artists = list(set(artists))"
   ]
  },
  {
   "cell_type": "code",
   "execution_count": 7,
   "metadata": {},
   "outputs": [
    {
     "name": "stdout",
     "output_type": "stream",
     "text": [
      "No of Playlists:30000, No of tracks: 339283, No of artists:62380\n"
     ]
    }
   ],
   "source": [
    "print(f\"No of Playlists:{len(playlists)}, No of tracks: {len(tracks)}, No of artists:{len(artists)}\")"
   ]
  },
  {
   "cell_type": "code",
   "execution_count": 8,
   "metadata": {},
   "outputs": [],
   "source": [
    "# Create a track-artist key-value pair\n",
    "track_artist = {}\n",
    "for json_files in JSONs:\n",
    "      for playlist in json_files.playlists.values():\n",
    "            for track in playlist.tracks.values():\n",
    "                  if track.uri not in track_artist.keys():\n",
    "                        track_artist[track.uri] = track.artist_uri"
   ]
  },
  {
   "cell_type": "code",
   "execution_count": 9,
   "metadata": {},
   "outputs": [],
   "source": [
    "# Create a heterogenous graph from the data\n",
    "playlists_2idx = {playlist: idx for idx, playlist in enumerate(playlists)}\n",
    "tracks_2idx = {track: idx for idx, track in enumerate(tracks)}\n",
    "artists_2idx = {artist: idx for idx, artist in enumerate(artists)}"
   ]
  },
  {
   "cell_type": "code",
   "execution_count": 10,
   "metadata": {},
   "outputs": [],
   "source": [
    "playlist_track_edges = []\n",
    "for p_name, playlist in playlist_data.items(): \n",
    "  playlist_track_edges += [(p_name, t) for t in playlist.tracks]\n",
    "playlist_artist_edges = []\n",
    "for p_name, playlist in playlist_data.items():\n",
    "  playlist_artist_edges += [(p_name, a) for a in playlist.artists]\n",
    "track_artist_edges = []\n",
    "for track, artist in track_artist.items():\n",
    "  track_artist_edges.append((track, artist))"
   ]
  },
  {
   "cell_type": "code",
   "execution_count": 11,
   "metadata": {},
   "outputs": [],
   "source": [
    "playlist_track_edges_idx = tuple(torch.tensor([playlists_2idx[pl], tracks_2idx[track]]) for pl, track in playlist_track_edges)\n",
    "playlist_artist_edges_idx = tuple(torch.tensor([playlists_2idx[pl], artists_2idx[artist]]) for pl, artist in playlist_artist_edges)\n",
    "track_artist_edges_idx = tuple(torch.tensor([tracks_2idx[track], artists_2idx[artist]]) for track, artist in track_artist_edges)"
   ]
  },
  {
   "cell_type": "code",
   "execution_count": 12,
   "metadata": {},
   "outputs": [],
   "source": [
    "playlist_track_edges_idx = tuple(torch.cat([t[i].unsqueeze(0) for t in playlist_track_edges_idx]) for i in range(len(playlist_track_edges_idx[0])))\n",
    "playlist_artist_edges_idx = tuple(torch.cat([t[i].unsqueeze(0) for t in playlist_artist_edges_idx]) for i in range(len(playlist_artist_edges_idx[0])))\n",
    "track_artist_edges_idx = tuple(torch.cat([t[i].unsqueeze(0) for t in track_artist_edges_idx]) for i in range(len(track_artist_edges_idx[0])))"
   ]
  },
  {
   "cell_type": "markdown",
   "metadata": {},
   "source": [
    "<h3> Heterogeneous graph creation </h3>"
   ]
  },
  {
   "cell_type": "code",
   "execution_count": 13,
   "metadata": {},
   "outputs": [
    {
     "name": "stdout",
     "output_type": "stream",
     "text": [
      "HeteroData(\n",
      "  playlist={\n",
      "    node_id=[30000],\n",
      "    x=[30000, 128],\n",
      "  },\n",
      "  track={\n",
      "    node_id=[339283],\n",
      "    x=[339283, 64],\n",
      "  },\n",
      "  artist={\n",
      "    node_id=[62380],\n",
      "    x=[62380, 32],\n",
      "  },\n",
      "  (playlist, contains_track, track)={ edge_index=[2, 1985474] },\n",
      "  (playlist, contains_artist, artist)={ edge_index=[2, 1147878] },\n",
      "  (track, by, artist)={ edge_index=[2, 339283] }\n",
      ")\n"
     ]
    }
   ],
   "source": [
    "# Convert data to Hetero Data object with  Pyg Library , see of we can create a subgraph with lesser nodes\n",
    "hetero_graph = HeteroData()\n",
    "\n",
    "hetero_graph[\"playlist\"].node_id = torch.arange(len(playlists))\n",
    "hetero_graph[\"track\"].node_id = torch.arange(len(tracks))\n",
    "hetero_graph[\"artist\"].node_id = torch.arange(len(artists))\n",
    "\n",
    "hetero_graph[\"playlist\"].x = torch.randn(len(playlists), 128)\n",
    "hetero_graph[\"track\"].x = torch.randn(len(tracks), 64)\n",
    "hetero_graph[\"artist\"].x = torch.randn(len(artists), 32)\n",
    "\n",
    "\n",
    "hetero_graph['playlist', 'contains_track', 'track'].edge_index = torch.stack(playlist_track_edges_idx)\n",
    "hetero_graph['playlist', 'contains_artist', 'artist'].edge_index = torch.stack(playlist_artist_edges_idx)\n",
    "hetero_graph['track', 'by', 'artist'].edge_index = torch.stack(track_artist_edges_idx)\n",
    "\n",
    "\n",
    "\n",
    "print(hetero_graph)"
   ]
  },
  {
   "cell_type": "code",
   "execution_count": 14,
   "metadata": {},
   "outputs": [],
   "source": [
    "if torch.cuda.is_available():\n",
    "    device = torch.device('cuda')\n",
    "else:\n",
    "    device = torch.device('cpu')\n",
    "\n",
    "# hetero_graph = hetero_graph.to(device)\n",
    "hetero_graph = T.ToUndirected()(hetero_graph)"
   ]
  },
  {
   "cell_type": "code",
   "execution_count": 15,
   "metadata": {},
   "outputs": [],
   "source": [
    "# training (80%), validation (10%), and testing edges (10%)\n",
    "# In training edges, 70% used for message passing , 30% edges for supervision\n",
    "\n",
    "transform = T.RandomLinkSplit(\n",
    "    num_val=0.1,\n",
    "    num_test=0.1,\n",
    "    disjoint_train_ratio=0.3,\n",
    "    neg_sampling_ratio=1.0,\n",
    "    add_negative_train_samples=True,\n",
    "    split_labels=True,\n",
    "    is_undirected=True, \n",
    "    edge_types=[('playlist', 'contains_track', 'track')]\n",
    ")\n",
    "\n",
    "train_data, val_data, test_data = transform(hetero_graph)"
   ]
  },
  {
   "cell_type": "code",
   "execution_count": 16,
   "metadata": {},
   "outputs": [
    {
     "data": {
      "text/plain": [
       "HeteroData(\n",
       "  playlist={\n",
       "    node_id=[30000],\n",
       "    x=[30000, 128],\n",
       "  },\n",
       "  track={\n",
       "    node_id=[339283],\n",
       "    x=[339283, 64],\n",
       "  },\n",
       "  artist={\n",
       "    node_id=[62380],\n",
       "    x=[62380, 32],\n",
       "  },\n",
       "  (playlist, contains_track, track)={\n",
       "    edge_index=[2, 1111866],\n",
       "    pos_edge_label=[476514],\n",
       "    pos_edge_label_index=[2, 476514],\n",
       "    neg_edge_label=[476514],\n",
       "    neg_edge_label_index=[2, 476514],\n",
       "  },\n",
       "  (playlist, contains_artist, artist)={ edge_index=[2, 1147878] },\n",
       "  (track, by, artist)={ edge_index=[2, 339283] },\n",
       "  (track, rev_contains_track, playlist)={ edge_index=[2, 1985474] },\n",
       "  (artist, rev_contains_artist, playlist)={ edge_index=[2, 1147878] },\n",
       "  (artist, rev_by, track)={ edge_index=[2, 339283] }\n",
       ")"
      ]
     },
     "execution_count": 16,
     "metadata": {},
     "output_type": "execute_result"
    }
   ],
   "source": [
    "train_data"
   ]
  },
  {
   "cell_type": "markdown",
   "metadata": {},
   "source": [
    "<h3>Heterogeneous Graph Transformer(HGT) model </h3>"
   ]
  },
  {
   "cell_type": "code",
   "execution_count": 56,
   "metadata": {},
   "outputs": [],
   "source": [
    "class HGT(torch.nn.Module):\n",
    "    def __init__(self, hidden_channels, num_heads, num_layers):\n",
    "        super().__init__()\n",
    "\n",
    "        self.lin_dict = torch.nn.ModuleDict()\n",
    "        for node_type in hetero_graph.node_types:\n",
    "            self.lin_dict[node_type] = Linear(-1, hidden_channels)\n",
    "\n",
    "        self.convs = torch.nn.ModuleList()\n",
    "        for _ in range(num_layers):\n",
    "            conv = HGTConv(hidden_channels, hidden_channels, hetero_graph.metadata(),\n",
    "                           num_heads)\n",
    "            self.convs.append(conv)\n",
    "\n",
    "    def forward(self, x_dict, edge_index_dict):\n",
    "        x_dict = {\n",
    "            node_type: self.lin_dict[node_type](x).relu_()\n",
    "            for node_type, x in x_dict.items()\n",
    "        }\n",
    "\n",
    "        for conv in self.convs:\n",
    "            x_dict = conv(x_dict, edge_index_dict)\n",
    "\n",
    "        return x_dict\n",
    "\n",
    "class Classifier(torch.nn.Module):\n",
    "\n",
    "    def forward(self, x_dict, edge_label_index):\n",
    "        # Get Node embeddings to compute edge feature\n",
    "        edge_feat_playlist = x_dict[\"playlist\"][edge_label_index[0]]\n",
    "        edge_feat_track = x_dict[\"track\"][edge_label_index[1]]\n",
    "\n",
    "        # Apply dot-product to get a prediction per supervision edge:\n",
    "        return (edge_feat_playlist * edge_feat_track).sum(dim=-1)\n",
    "\n",
    "\n",
    "class Model(torch.nn.Module):\n",
    "\n",
    "    def __init__(self, hidden_channels, num_heads, num_layers):\n",
    "        super().__init__()\n",
    "\n",
    "        self.rgnn = HGT(hidden_channels, num_heads, num_layers)\n",
    "\n",
    "        self.classifier = Classifier()\n",
    "\n",
    "    def forward(self, data):\n",
    "\n",
    "        x_dict = self.rgnn(data.x_dict, data.edge_index_dict)\n",
    "        pos_pred = self.classifier(x_dict, data['playlist', 'contains_track', 'track'].pos_edge_label_index)\n",
    "        neg_pred = self.classifier(x_dict, data['playlist', 'contains_track', 'track'].neg_edge_label_index)\n",
    "\n",
    "        return pos_pred, neg_pred\n",
    "    \n",
    "    def get_node_embeddings(self, data):\n",
    "        embeddings = self.rgnn(data.x_dict, data.edge_index_dict)\n",
    "        return embeddings\n",
    "\n",
    "model = Model(hidden_channels=64, num_heads=2, num_layers=1)\n",
    "model = model.to(device)\n",
    "\n",
    "with torch.no_grad():  # Initialize lazy modules.\n",
    "    out = model(train_data.to(device))\n",
    "\n",
    "optimizer = torch.optim.Adam(model.parameters(), lr=0.001, weight_decay=0.001)"
   ]
  },
  {
   "cell_type": "markdown",
   "metadata": {},
   "source": [
    "<h3> Train </h3>"
   ]
  },
  {
   "cell_type": "code",
   "execution_count": 57,
   "metadata": {},
   "outputs": [
    {
     "name": "stdout",
     "output_type": "stream",
     "text": [
      "Epoch: 001,Train BPR Loss: 0.6993, Val BPR Loss: 0.6930,Val AUC: 0.5166 Test BPR Loss: 0.6929, Test AUC: 0.5166\n",
      "Epoch: 002,Train BPR Loss: 0.6923, Val BPR Loss: 0.6878,Val AUC: 0.5446 Test BPR Loss: 0.6883, Test AUC: 0.5417\n",
      "Epoch: 003,Train BPR Loss: 0.6857, Val BPR Loss: 0.6825,Val AUC: 0.5737 Test BPR Loss: 0.6835, Test AUC: 0.5680\n",
      "Epoch: 004,Train BPR Loss: 0.6789, Val BPR Loss: 0.6769,Val AUC: 0.6039 Test BPR Loss: 0.6784, Test AUC: 0.5959\n",
      "Epoch: 005,Train BPR Loss: 0.6718, Val BPR Loss: 0.6706,Val AUC: 0.6348 Test BPR Loss: 0.6728, Test AUC: 0.6251\n",
      "Epoch: 006,Train BPR Loss: 0.6639, Val BPR Loss: 0.6635,Val AUC: 0.6655 Test BPR Loss: 0.6664, Test AUC: 0.6551\n",
      "Epoch: 007,Train BPR Loss: 0.6550, Val BPR Loss: 0.6553,Val AUC: 0.6948 Test BPR Loss: 0.6590, Test AUC: 0.6846\n",
      "Epoch: 008,Train BPR Loss: 0.6448, Val BPR Loss: 0.6458,Val AUC: 0.7216 Test BPR Loss: 0.6504, Test AUC: 0.7123\n",
      "Epoch: 009,Train BPR Loss: 0.6331, Val BPR Loss: 0.6348,Val AUC: 0.7448 Test BPR Loss: 0.6403, Test AUC: 0.7368\n",
      "Epoch: 010,Train BPR Loss: 0.6195, Val BPR Loss: 0.6220,Val AUC: 0.7638 Test BPR Loss: 0.6286, Test AUC: 0.7571\n",
      "Epoch: 011,Train BPR Loss: 0.6039, Val BPR Loss: 0.6072,Val AUC: 0.7784 Test BPR Loss: 0.6151, Test AUC: 0.7728\n",
      "Epoch: 012,Train BPR Loss: 0.5861, Val BPR Loss: 0.5905,Val AUC: 0.7892 Test BPR Loss: 0.5995, Test AUC: 0.7843\n",
      "Epoch: 013,Train BPR Loss: 0.5660, Val BPR Loss: 0.5718,Val AUC: 0.7970 Test BPR Loss: 0.5821, Test AUC: 0.7927\n",
      "Epoch: 014,Train BPR Loss: 0.5440, Val BPR Loss: 0.5515,Val AUC: 0.8027 Test BPR Loss: 0.5630, Test AUC: 0.7989\n",
      "Epoch: 015,Train BPR Loss: 0.5205, Val BPR Loss: 0.5304,Val AUC: 0.8069 Test BPR Loss: 0.5429, Test AUC: 0.8035\n",
      "Epoch: 016,Train BPR Loss: 0.4966, Val BPR Loss: 0.5098,Val AUC: 0.8101 Test BPR Loss: 0.5229, Test AUC: 0.8071\n",
      "Epoch: 017,Train BPR Loss: 0.4738, Val BPR Loss: 0.4914,Val AUC: 0.8127 Test BPR Loss: 0.5047, Test AUC: 0.8100\n",
      "Epoch: 018,Train BPR Loss: 0.4544, Val BPR Loss: 0.4774,Val AUC: 0.8148 Test BPR Loss: 0.4904, Test AUC: 0.8123\n",
      "Epoch: 019,Train BPR Loss: 0.4405, Val BPR Loss: 0.4691,Val AUC: 0.8164 Test BPR Loss: 0.4813, Test AUC: 0.8142\n",
      "Epoch: 020,Train BPR Loss: 0.4331, Val BPR Loss: 0.4655,Val AUC: 0.8178 Test BPR Loss: 0.4768, Test AUC: 0.8158\n",
      "Epoch: 021,Train BPR Loss: 0.4308, Val BPR Loss: 0.4629,Val AUC: 0.8189 Test BPR Loss: 0.4733, Test AUC: 0.8170\n",
      "Epoch: 022,Train BPR Loss: 0.4296, Val BPR Loss: 0.4576,Val AUC: 0.8198 Test BPR Loss: 0.4671, Test AUC: 0.8180\n",
      "Epoch: 023,Train BPR Loss: 0.4257, Val BPR Loss: 0.4476,Val AUC: 0.8206 Test BPR Loss: 0.4565, Test AUC: 0.8188\n",
      "Epoch: 024,Train BPR Loss: 0.4174, Val BPR Loss: 0.4334,Val AUC: 0.8213 Test BPR Loss: 0.4415, Test AUC: 0.8195\n",
      "Epoch: 025,Train BPR Loss: 0.4050, Val BPR Loss: 0.4165,Val AUC: 0.8219 Test BPR Loss: 0.4239, Test AUC: 0.8202\n",
      "Epoch: 026,Train BPR Loss: 0.3903, Val BPR Loss: 0.3990,Val AUC: 0.8225 Test BPR Loss: 0.4056, Test AUC: 0.8208\n",
      "Epoch: 027,Train BPR Loss: 0.3752, Val BPR Loss: 0.3823,Val AUC: 0.8231 Test BPR Loss: 0.3882, Test AUC: 0.8214\n",
      "Epoch: 028,Train BPR Loss: 0.3613, Val BPR Loss: 0.3676,Val AUC: 0.8238 Test BPR Loss: 0.3725, Test AUC: 0.8222\n",
      "Epoch: 029,Train BPR Loss: 0.3495, Val BPR Loss: 0.3550,Val AUC: 0.8248 Test BPR Loss: 0.3590, Test AUC: 0.8232\n",
      "Epoch: 030,Train BPR Loss: 0.3402, Val BPR Loss: 0.3446,Val AUC: 0.8263 Test BPR Loss: 0.3475, Test AUC: 0.8248\n",
      "Epoch: 031,Train BPR Loss: 0.3331, Val BPR Loss: 0.3360,Val AUC: 0.8288 Test BPR Loss: 0.3377, Test AUC: 0.8274\n",
      "Epoch: 032,Train BPR Loss: 0.3278, Val BPR Loss: 0.3287,Val AUC: 0.8322 Test BPR Loss: 0.3294, Test AUC: 0.8311\n",
      "Epoch: 033,Train BPR Loss: 0.3238, Val BPR Loss: 0.3226,Val AUC: 0.8366 Test BPR Loss: 0.3222, Test AUC: 0.8356\n",
      "Epoch: 034,Train BPR Loss: 0.3207, Val BPR Loss: 0.3175,Val AUC: 0.8412 Test BPR Loss: 0.3161, Test AUC: 0.8406\n",
      "Epoch: 035,Train BPR Loss: 0.3182, Val BPR Loss: 0.3131,Val AUC: 0.8457 Test BPR Loss: 0.3109, Test AUC: 0.8453\n",
      "Epoch: 036,Train BPR Loss: 0.3159, Val BPR Loss: 0.3092,Val AUC: 0.8495 Test BPR Loss: 0.3063, Test AUC: 0.8495\n",
      "Epoch: 037,Train BPR Loss: 0.3134, Val BPR Loss: 0.3057,Val AUC: 0.8527 Test BPR Loss: 0.3024, Test AUC: 0.8529\n",
      "Epoch: 038,Train BPR Loss: 0.3105, Val BPR Loss: 0.3026,Val AUC: 0.8554 Test BPR Loss: 0.2991, Test AUC: 0.8556\n",
      "Epoch: 039,Train BPR Loss: 0.3074, Val BPR Loss: 0.3004,Val AUC: 0.8575 Test BPR Loss: 0.2969, Test AUC: 0.8578\n",
      "Epoch: 040,Train BPR Loss: 0.3044, Val BPR Loss: 0.2992,Val AUC: 0.8591 Test BPR Loss: 0.2958, Test AUC: 0.8594\n",
      "Epoch: 041,Train BPR Loss: 0.3020, Val BPR Loss: 0.2992,Val AUC: 0.8604 Test BPR Loss: 0.2961, Test AUC: 0.8607\n",
      "Epoch: 042,Train BPR Loss: 0.3005, Val BPR Loss: 0.3002,Val AUC: 0.8614 Test BPR Loss: 0.2974, Test AUC: 0.8617\n",
      "Epoch: 043,Train BPR Loss: 0.2999, Val BPR Loss: 0.3017,Val AUC: 0.8623 Test BPR Loss: 0.2992, Test AUC: 0.8625\n",
      "Epoch: 044,Train BPR Loss: 0.2999, Val BPR Loss: 0.3031,Val AUC: 0.8631 Test BPR Loss: 0.3008, Test AUC: 0.8633\n",
      "Epoch: 045,Train BPR Loss: 0.3000, Val BPR Loss: 0.3038,Val AUC: 0.8641 Test BPR Loss: 0.3016, Test AUC: 0.8642\n",
      "Epoch: 046,Train BPR Loss: 0.2999, Val BPR Loss: 0.3033,Val AUC: 0.8652 Test BPR Loss: 0.3012, Test AUC: 0.8653\n",
      "Epoch: 047,Train BPR Loss: 0.2991, Val BPR Loss: 0.3017,Val AUC: 0.8665 Test BPR Loss: 0.2996, Test AUC: 0.8667\n",
      "Epoch: 048,Train BPR Loss: 0.2976, Val BPR Loss: 0.2991,Val AUC: 0.8680 Test BPR Loss: 0.2970, Test AUC: 0.8683\n",
      "Epoch: 049,Train BPR Loss: 0.2957, Val BPR Loss: 0.2961,Val AUC: 0.8696 Test BPR Loss: 0.2938, Test AUC: 0.8699\n",
      "Epoch: 050,Train BPR Loss: 0.2936, Val BPR Loss: 0.2931,Val AUC: 0.8712 Test BPR Loss: 0.2906, Test AUC: 0.8716\n",
      "Epoch: 051,Train BPR Loss: 0.2916, Val BPR Loss: 0.2904,Val AUC: 0.8726 Test BPR Loss: 0.2877, Test AUC: 0.8732\n",
      "Epoch: 052,Train BPR Loss: 0.2899, Val BPR Loss: 0.2882,Val AUC: 0.8740 Test BPR Loss: 0.2854, Test AUC: 0.8746\n",
      "Epoch: 053,Train BPR Loss: 0.2887, Val BPR Loss: 0.2865,Val AUC: 0.8751 Test BPR Loss: 0.2836, Test AUC: 0.8759\n",
      "Epoch: 054,Train BPR Loss: 0.2879, Val BPR Loss: 0.2853,Val AUC: 0.8761 Test BPR Loss: 0.2824, Test AUC: 0.8769\n",
      "Epoch: 055,Train BPR Loss: 0.2874, Val BPR Loss: 0.2845,Val AUC: 0.8768 Test BPR Loss: 0.2815, Test AUC: 0.8777\n",
      "Epoch: 056,Train BPR Loss: 0.2869, Val BPR Loss: 0.2837,Val AUC: 0.8775 Test BPR Loss: 0.2808, Test AUC: 0.8784\n",
      "Epoch: 057,Train BPR Loss: 0.2864, Val BPR Loss: 0.2830,Val AUC: 0.8780 Test BPR Loss: 0.2801, Test AUC: 0.8789\n",
      "Epoch: 058,Train BPR Loss: 0.2856, Val BPR Loss: 0.2822,Val AUC: 0.8783 Test BPR Loss: 0.2794, Test AUC: 0.8792\n",
      "Epoch: 059,Train BPR Loss: 0.2845, Val BPR Loss: 0.2814,Val AUC: 0.8786 Test BPR Loss: 0.2788, Test AUC: 0.8795\n",
      "Epoch: 060,Train BPR Loss: 0.2833, Val BPR Loss: 0.2807,Val AUC: 0.8789 Test BPR Loss: 0.2782, Test AUC: 0.8797\n",
      "Epoch: 061,Train BPR Loss: 0.2821, Val BPR Loss: 0.2801,Val AUC: 0.8791 Test BPR Loss: 0.2777, Test AUC: 0.8799\n",
      "Epoch: 062,Train BPR Loss: 0.2809, Val BPR Loss: 0.2796,Val AUC: 0.8794 Test BPR Loss: 0.2774, Test AUC: 0.8802\n",
      "Epoch: 063,Train BPR Loss: 0.2799, Val BPR Loss: 0.2793,Val AUC: 0.8797 Test BPR Loss: 0.2771, Test AUC: 0.8805\n",
      "Epoch: 064,Train BPR Loss: 0.2790, Val BPR Loss: 0.2790,Val AUC: 0.8801 Test BPR Loss: 0.2769, Test AUC: 0.8809\n",
      "Epoch: 065,Train BPR Loss: 0.2783, Val BPR Loss: 0.2786,Val AUC: 0.8805 Test BPR Loss: 0.2765, Test AUC: 0.8814\n",
      "Epoch: 066,Train BPR Loss: 0.2778, Val BPR Loss: 0.2781,Val AUC: 0.8811 Test BPR Loss: 0.2759, Test AUC: 0.8820\n",
      "Epoch: 067,Train BPR Loss: 0.2772, Val BPR Loss: 0.2773,Val AUC: 0.8817 Test BPR Loss: 0.2750, Test AUC: 0.8827\n",
      "Epoch: 068,Train BPR Loss: 0.2766, Val BPR Loss: 0.2762,Val AUC: 0.8824 Test BPR Loss: 0.2739, Test AUC: 0.8835\n",
      "Epoch: 069,Train BPR Loss: 0.2760, Val BPR Loss: 0.2750,Val AUC: 0.8832 Test BPR Loss: 0.2725, Test AUC: 0.8844\n",
      "Epoch: 070,Train BPR Loss: 0.2754, Val BPR Loss: 0.2736,Val AUC: 0.8840 Test BPR Loss: 0.2709, Test AUC: 0.8853\n",
      "Epoch: 071,Train BPR Loss: 0.2748, Val BPR Loss: 0.2723,Val AUC: 0.8847 Test BPR Loss: 0.2694, Test AUC: 0.8862\n",
      "Epoch: 072,Train BPR Loss: 0.2742, Val BPR Loss: 0.2710,Val AUC: 0.8855 Test BPR Loss: 0.2679, Test AUC: 0.8870\n",
      "Epoch: 073,Train BPR Loss: 0.2738, Val BPR Loss: 0.2698,Val AUC: 0.8862 Test BPR Loss: 0.2665, Test AUC: 0.8879\n",
      "Epoch: 074,Train BPR Loss: 0.2734, Val BPR Loss: 0.2688,Val AUC: 0.8869 Test BPR Loss: 0.2653, Test AUC: 0.8887\n",
      "Epoch: 075,Train BPR Loss: 0.2730, Val BPR Loss: 0.2679,Val AUC: 0.8875 Test BPR Loss: 0.2643, Test AUC: 0.8894\n",
      "Epoch: 076,Train BPR Loss: 0.2727, Val BPR Loss: 0.2671,Val AUC: 0.8881 Test BPR Loss: 0.2635, Test AUC: 0.8901\n",
      "Epoch: 077,Train BPR Loss: 0.2723, Val BPR Loss: 0.2665,Val AUC: 0.8887 Test BPR Loss: 0.2627, Test AUC: 0.8908\n",
      "Epoch: 078,Train BPR Loss: 0.2719, Val BPR Loss: 0.2659,Val AUC: 0.8892 Test BPR Loss: 0.2622, Test AUC: 0.8914\n",
      "Epoch: 079,Train BPR Loss: 0.2714, Val BPR Loss: 0.2655,Val AUC: 0.8897 Test BPR Loss: 0.2617, Test AUC: 0.8919\n",
      "Epoch: 080,Train BPR Loss: 0.2710, Val BPR Loss: 0.2652,Val AUC: 0.8901 Test BPR Loss: 0.2615, Test AUC: 0.8923\n",
      "Epoch: 081,Train BPR Loss: 0.2706, Val BPR Loss: 0.2649,Val AUC: 0.8905 Test BPR Loss: 0.2613, Test AUC: 0.8927\n",
      "Epoch: 082,Train BPR Loss: 0.2702, Val BPR Loss: 0.2648,Val AUC: 0.8909 Test BPR Loss: 0.2611, Test AUC: 0.8931\n",
      "Epoch: 083,Train BPR Loss: 0.2699, Val BPR Loss: 0.2646,Val AUC: 0.8912 Test BPR Loss: 0.2609, Test AUC: 0.8935\n",
      "Epoch: 084,Train BPR Loss: 0.2696, Val BPR Loss: 0.2643,Val AUC: 0.8915 Test BPR Loss: 0.2607, Test AUC: 0.8938\n",
      "Epoch: 085,Train BPR Loss: 0.2694, Val BPR Loss: 0.2639,Val AUC: 0.8919 Test BPR Loss: 0.2603, Test AUC: 0.8942\n",
      "Epoch: 086,Train BPR Loss: 0.2692, Val BPR Loss: 0.2635,Val AUC: 0.8922 Test BPR Loss: 0.2598, Test AUC: 0.8946\n",
      "Epoch: 087,Train BPR Loss: 0.2689, Val BPR Loss: 0.2629,Val AUC: 0.8926 Test BPR Loss: 0.2591, Test AUC: 0.8950\n",
      "Epoch: 088,Train BPR Loss: 0.2687, Val BPR Loss: 0.2623,Val AUC: 0.8929 Test BPR Loss: 0.2584, Test AUC: 0.8954\n",
      "Epoch: 089,Train BPR Loss: 0.2685, Val BPR Loss: 0.2616,Val AUC: 0.8933 Test BPR Loss: 0.2577, Test AUC: 0.8958\n",
      "Epoch: 090,Train BPR Loss: 0.2683, Val BPR Loss: 0.2610,Val AUC: 0.8936 Test BPR Loss: 0.2570, Test AUC: 0.8962\n",
      "Epoch: 091,Train BPR Loss: 0.2681, Val BPR Loss: 0.2605,Val AUC: 0.8938 Test BPR Loss: 0.2563, Test AUC: 0.8965\n",
      "Epoch: 092,Train BPR Loss: 0.2679, Val BPR Loss: 0.2600,Val AUC: 0.8941 Test BPR Loss: 0.2558, Test AUC: 0.8968\n",
      "Epoch: 093,Train BPR Loss: 0.2677, Val BPR Loss: 0.2596,Val AUC: 0.8942 Test BPR Loss: 0.2554, Test AUC: 0.8970\n",
      "Epoch: 094,Train BPR Loss: 0.2675, Val BPR Loss: 0.2594,Val AUC: 0.8944 Test BPR Loss: 0.2551, Test AUC: 0.8971\n",
      "Epoch: 095,Train BPR Loss: 0.2673, Val BPR Loss: 0.2592,Val AUC: 0.8944 Test BPR Loss: 0.2550, Test AUC: 0.8972\n",
      "Epoch: 096,Train BPR Loss: 0.2671, Val BPR Loss: 0.2592,Val AUC: 0.8945 Test BPR Loss: 0.2550, Test AUC: 0.8972\n",
      "Epoch: 097,Train BPR Loss: 0.2669, Val BPR Loss: 0.2592,Val AUC: 0.8945 Test BPR Loss: 0.2550, Test AUC: 0.8972\n",
      "Epoch: 098,Train BPR Loss: 0.2667, Val BPR Loss: 0.2592,Val AUC: 0.8945 Test BPR Loss: 0.2551, Test AUC: 0.8972\n",
      "Epoch: 099,Train BPR Loss: 0.2665, Val BPR Loss: 0.2592,Val AUC: 0.8945 Test BPR Loss: 0.2552, Test AUC: 0.8971\n",
      "Epoch: 100,Train BPR Loss: 0.2663, Val BPR Loss: 0.2591,Val AUC: 0.8945 Test BPR Loss: 0.2552, Test AUC: 0.8971\n",
      "Epoch: 101,Train BPR Loss: 0.2661, Val BPR Loss: 0.2590,Val AUC: 0.8945 Test BPR Loss: 0.2551, Test AUC: 0.8971\n",
      "Epoch: 102,Train BPR Loss: 0.2660, Val BPR Loss: 0.2589,Val AUC: 0.8946 Test BPR Loss: 0.2549, Test AUC: 0.8972\n",
      "Epoch: 103,Train BPR Loss: 0.2658, Val BPR Loss: 0.2587,Val AUC: 0.8946 Test BPR Loss: 0.2547, Test AUC: 0.8972\n",
      "Epoch: 104,Train BPR Loss: 0.2657, Val BPR Loss: 0.2584,Val AUC: 0.8947 Test BPR Loss: 0.2544, Test AUC: 0.8973\n",
      "Epoch: 105,Train BPR Loss: 0.2656, Val BPR Loss: 0.2581,Val AUC: 0.8948 Test BPR Loss: 0.2541, Test AUC: 0.8974\n",
      "Epoch: 106,Train BPR Loss: 0.2654, Val BPR Loss: 0.2579,Val AUC: 0.8949 Test BPR Loss: 0.2539, Test AUC: 0.8975\n",
      "Epoch: 107,Train BPR Loss: 0.2653, Val BPR Loss: 0.2577,Val AUC: 0.8950 Test BPR Loss: 0.2537, Test AUC: 0.8976\n",
      "Epoch: 108,Train BPR Loss: 0.2652, Val BPR Loss: 0.2576,Val AUC: 0.8951 Test BPR Loss: 0.2535, Test AUC: 0.8977\n",
      "Epoch: 109,Train BPR Loss: 0.2651, Val BPR Loss: 0.2575,Val AUC: 0.8951 Test BPR Loss: 0.2534, Test AUC: 0.8977\n",
      "Epoch: 110,Train BPR Loss: 0.2650, Val BPR Loss: 0.2574,Val AUC: 0.8952 Test BPR Loss: 0.2534, Test AUC: 0.8978\n",
      "Epoch: 111,Train BPR Loss: 0.2648, Val BPR Loss: 0.2574,Val AUC: 0.8952 Test BPR Loss: 0.2534, Test AUC: 0.8978\n",
      "Epoch: 112,Train BPR Loss: 0.2647, Val BPR Loss: 0.2574,Val AUC: 0.8953 Test BPR Loss: 0.2534, Test AUC: 0.8978\n",
      "Epoch: 113,Train BPR Loss: 0.2646, Val BPR Loss: 0.2573,Val AUC: 0.8953 Test BPR Loss: 0.2534, Test AUC: 0.8979\n",
      "Epoch: 114,Train BPR Loss: 0.2645, Val BPR Loss: 0.2572,Val AUC: 0.8954 Test BPR Loss: 0.2533, Test AUC: 0.8980\n",
      "Epoch: 115,Train BPR Loss: 0.2643, Val BPR Loss: 0.2571,Val AUC: 0.8955 Test BPR Loss: 0.2532, Test AUC: 0.8981\n",
      "Epoch: 116,Train BPR Loss: 0.2642, Val BPR Loss: 0.2569,Val AUC: 0.8956 Test BPR Loss: 0.2530, Test AUC: 0.8982\n",
      "Epoch: 117,Train BPR Loss: 0.2641, Val BPR Loss: 0.2567,Val AUC: 0.8957 Test BPR Loss: 0.2527, Test AUC: 0.8983\n",
      "Epoch: 118,Train BPR Loss: 0.2640, Val BPR Loss: 0.2565,Val AUC: 0.8958 Test BPR Loss: 0.2525, Test AUC: 0.8984\n",
      "Epoch: 119,Train BPR Loss: 0.2639, Val BPR Loss: 0.2563,Val AUC: 0.8959 Test BPR Loss: 0.2522, Test AUC: 0.8986\n",
      "Epoch: 120,Train BPR Loss: 0.2638, Val BPR Loss: 0.2561,Val AUC: 0.8960 Test BPR Loss: 0.2520, Test AUC: 0.8987\n",
      "Epoch: 121,Train BPR Loss: 0.2637, Val BPR Loss: 0.2560,Val AUC: 0.8961 Test BPR Loss: 0.2519, Test AUC: 0.8987\n",
      "Epoch: 122,Train BPR Loss: 0.2636, Val BPR Loss: 0.2559,Val AUC: 0.8961 Test BPR Loss: 0.2518, Test AUC: 0.8988\n",
      "Epoch: 123,Train BPR Loss: 0.2635, Val BPR Loss: 0.2558,Val AUC: 0.8961 Test BPR Loss: 0.2518, Test AUC: 0.8988\n",
      "Epoch: 124,Train BPR Loss: 0.2634, Val BPR Loss: 0.2558,Val AUC: 0.8962 Test BPR Loss: 0.2518, Test AUC: 0.8988\n",
      "Epoch: 125,Train BPR Loss: 0.2633, Val BPR Loss: 0.2558,Val AUC: 0.8962 Test BPR Loss: 0.2518, Test AUC: 0.8988\n",
      "Epoch: 126,Train BPR Loss: 0.2632, Val BPR Loss: 0.2558,Val AUC: 0.8962 Test BPR Loss: 0.2518, Test AUC: 0.8988\n",
      "Epoch: 127,Train BPR Loss: 0.2631, Val BPR Loss: 0.2558,Val AUC: 0.8962 Test BPR Loss: 0.2518, Test AUC: 0.8988\n",
      "Epoch: 128,Train BPR Loss: 0.2630, Val BPR Loss: 0.2557,Val AUC: 0.8962 Test BPR Loss: 0.2518, Test AUC: 0.8988\n",
      "Epoch: 129,Train BPR Loss: 0.2629, Val BPR Loss: 0.2556,Val AUC: 0.8963 Test BPR Loss: 0.2517, Test AUC: 0.8989\n",
      "Epoch: 130,Train BPR Loss: 0.2627, Val BPR Loss: 0.2555,Val AUC: 0.8963 Test BPR Loss: 0.2515, Test AUC: 0.8989\n",
      "Epoch: 131,Train BPR Loss: 0.2626, Val BPR Loss: 0.2553,Val AUC: 0.8964 Test BPR Loss: 0.2514, Test AUC: 0.8990\n",
      "Epoch: 132,Train BPR Loss: 0.2625, Val BPR Loss: 0.2552,Val AUC: 0.8965 Test BPR Loss: 0.2512, Test AUC: 0.8991\n",
      "Epoch: 133,Train BPR Loss: 0.2624, Val BPR Loss: 0.2550,Val AUC: 0.8965 Test BPR Loss: 0.2510, Test AUC: 0.8992\n",
      "Epoch: 134,Train BPR Loss: 0.2623, Val BPR Loss: 0.2549,Val AUC: 0.8966 Test BPR Loss: 0.2508, Test AUC: 0.8992\n",
      "Epoch: 135,Train BPR Loss: 0.2622, Val BPR Loss: 0.2548,Val AUC: 0.8967 Test BPR Loss: 0.2507, Test AUC: 0.8993\n",
      "Epoch: 136,Train BPR Loss: 0.2621, Val BPR Loss: 0.2547,Val AUC: 0.8967 Test BPR Loss: 0.2506, Test AUC: 0.8993\n",
      "Epoch: 137,Train BPR Loss: 0.2620, Val BPR Loss: 0.2546,Val AUC: 0.8968 Test BPR Loss: 0.2506, Test AUC: 0.8994\n",
      "Epoch: 138,Train BPR Loss: 0.2619, Val BPR Loss: 0.2545,Val AUC: 0.8968 Test BPR Loss: 0.2505, Test AUC: 0.8994\n",
      "Epoch: 139,Train BPR Loss: 0.2618, Val BPR Loss: 0.2545,Val AUC: 0.8968 Test BPR Loss: 0.2505, Test AUC: 0.8995\n",
      "Epoch: 140,Train BPR Loss: 0.2617, Val BPR Loss: 0.2544,Val AUC: 0.8969 Test BPR Loss: 0.2504, Test AUC: 0.8995\n",
      "Epoch: 141,Train BPR Loss: 0.2616, Val BPR Loss: 0.2543,Val AUC: 0.8969 Test BPR Loss: 0.2503, Test AUC: 0.8996\n",
      "Epoch: 142,Train BPR Loss: 0.2615, Val BPR Loss: 0.2542,Val AUC: 0.8970 Test BPR Loss: 0.2502, Test AUC: 0.8996\n",
      "Epoch: 143,Train BPR Loss: 0.2614, Val BPR Loss: 0.2541,Val AUC: 0.8971 Test BPR Loss: 0.2501, Test AUC: 0.8997\n",
      "Epoch: 144,Train BPR Loss: 0.2613, Val BPR Loss: 0.2540,Val AUC: 0.8971 Test BPR Loss: 0.2499, Test AUC: 0.8997\n",
      "Epoch: 145,Train BPR Loss: 0.2612, Val BPR Loss: 0.2539,Val AUC: 0.8972 Test BPR Loss: 0.2498, Test AUC: 0.8998\n",
      "Epoch: 146,Train BPR Loss: 0.2611, Val BPR Loss: 0.2538,Val AUC: 0.8972 Test BPR Loss: 0.2497, Test AUC: 0.8999\n",
      "Epoch: 147,Train BPR Loss: 0.2610, Val BPR Loss: 0.2537,Val AUC: 0.8973 Test BPR Loss: 0.2496, Test AUC: 0.8999\n",
      "Epoch: 148,Train BPR Loss: 0.2609, Val BPR Loss: 0.2536,Val AUC: 0.8974 Test BPR Loss: 0.2495, Test AUC: 0.9000\n",
      "Epoch: 149,Train BPR Loss: 0.2608, Val BPR Loss: 0.2535,Val AUC: 0.8974 Test BPR Loss: 0.2495, Test AUC: 0.9000\n"
     ]
    }
   ],
   "source": [
    "def BPR_loss(pos_scores, neg_scores):\n",
    "    return - torch.log(torch.sigmoid(pos_scores - neg_scores)).mean()\n",
    "def train(data):\n",
    "    model.train()\n",
    "    optimizer.zero_grad()\n",
    "    data = data.to(device)\n",
    "    pos_pred, neg_pred = model(data)\n",
    "\n",
    "    pos_ground_truth = data['playlist', 'contains_track', 'track'].pos_edge_label\n",
    "    neg_ground_truth = data['playlist', 'contains_track', 'track'].neg_edge_label\n",
    "    pos_loss = F.binary_cross_entropy_with_logits(pos_pred, pos_ground_truth)\n",
    "    neg_loss = F.binary_cross_entropy_with_logits(neg_pred, neg_ground_truth)\n",
    "    \n",
    "    bpr_loss = BPR_loss(pos_pred, neg_pred)\n",
    "\n",
    "    bpr_loss.backward()\n",
    "    optimizer.step()\n",
    "\n",
    "    return float(bpr_loss)\n",
    "\n",
    "def test(data):\n",
    "    model.eval()\n",
    "    data = data.to(device)\n",
    "    with torch.no_grad():\n",
    "     pos_pred, neg_pred = model(data)\n",
    "\n",
    "    pos_ground_truth = data['playlist', 'contains_track', 'track'].pos_edge_label\n",
    "    neg_ground_truth = data['playlist', 'contains_track', 'track'].neg_edge_label\n",
    "    pos_loss = F.binary_cross_entropy_with_logits(pos_pred, pos_ground_truth)\n",
    "    neg_loss = F.binary_cross_entropy_with_logits(neg_pred, neg_ground_truth)\n",
    "    bpr_loss = BPR_loss(pos_pred, neg_pred)\n",
    "    auc = roc_auc_score(torch.cat((pos_ground_truth, neg_ground_truth)).detach().cpu().numpy(), torch.cat((pos_pred, neg_pred)).detach().cpu().numpy())\n",
    "    return auc, float(bpr_loss)\n",
    "\n",
    "train_losses = []\n",
    "val_losses = []\n",
    "test_losses = []\n",
    "auces = []\n",
    "for epoch in range(1, 150):\n",
    "\n",
    "    train_bpr = train(train_data)\n",
    "    val_auc, val_bpr= test(val_data)\n",
    "    test_auc, test_bpr = test(test_data)\n",
    "    train_losses.append(train_bpr)\n",
    "    val_losses.append(val_bpr)\n",
    "    test_losses.append(test_bpr)\n",
    "    auces.append(test_auc)\n",
    "    print(f'Epoch: {epoch:03d},Train BPR Loss: {train_bpr:.4f}, Val BPR Loss: {val_bpr:.4f},Val AUC: {val_auc:.4f} Test BPR Loss: {test_bpr:.4f}, Test AUC: {test_auc:.4f}')"
   ]
  },
  {
   "cell_type": "markdown",
   "metadata": {},
   "source": [
    "<h3> Test </h3>"
   ]
  },
  {
   "cell_type": "code",
   "execution_count": 58,
   "metadata": {},
   "outputs": [
    {
     "name": "stdout",
     "output_type": "stream",
     "text": [
      "Test BPR loss: 0.2495, Test AUC: 0.9000\n"
     ]
    }
   ],
   "source": [
    "auc, test_bpr = test(test_data)\n",
    "print(f\"Test BPR loss: {test_bpr:.4f}, Test AUC: {auc:.4f}\")"
   ]
  },
  {
   "cell_type": "markdown",
   "metadata": {},
   "source": [
    "<h3>Recall</h3>"
   ]
  },
  {
   "cell_type": "code",
   "execution_count": 59,
   "metadata": {},
   "outputs": [],
   "source": [
    "batch_size = 64\n",
    "\n",
    "# Get the dimensions of the tensors\n",
    "node_embeddings = model.get_node_embeddings(train_data)\n",
    "playlist_dim = node_embeddings['playlist'].size(0)\n",
    "track_dim = node_embeddings['track'].size(0)\n",
    "\n",
    "# Initialize an empty tensor to store the scores\n",
    "scores = torch.empty(playlist_dim, track_dim)\n",
    "\n",
    "# Iterate over batches of playlists\n",
    "for i in range(0, playlist_dim, batch_size):\n",
    "    # Get the current batch of playlists\n",
    "    playlist_batch = node_embeddings['playlist'][i:i+batch_size]\n",
    "    \n",
    "    # Get the corresponding batch of tracks (transposed)\n",
    "    track_batch = node_embeddings['track'].t()\n",
    "    \n",
    "    # Perform matrix multiplication for the batch\n",
    "    scores_batch = torch.matmul(playlist_batch, track_batch)\n",
    "    \n",
    "    # Store the scores for this batch\n",
    "    scores[i:i+batch_size] = scores_batch\n"
   ]
  },
  {
   "cell_type": "code",
   "execution_count": 60,
   "metadata": {},
   "outputs": [],
   "source": [
    "_, top_k_indices = torch.topk(scores, 300, dim=1)"
   ]
  },
  {
   "cell_type": "code",
   "execution_count": 62,
   "metadata": {},
   "outputs": [
    {
     "name": "stdout",
     "output_type": "stream",
     "text": [
      "Recall: 0.746670588850975\n"
     ]
    }
   ],
   "source": [
    "recall_300= LinkPredRecall(300).to(device)\n",
    "recall_300.update(top_k_indices.to(device), train_data['playlist', 'contains_track', 'track'].pos_edge_label_index)\n",
    "print(\"Recall:\", recall_300.compute().cpu().item())"
   ]
  },
  {
   "cell_type": "markdown",
   "metadata": {},
   "source": [
    "<h3> Plot </h3>"
   ]
  },
  {
   "cell_type": "code",
   "execution_count": 64,
   "metadata": {},
   "outputs": [
    {
     "data": {
      "image/png": "[encoded data removed]",
      "text/plain": [
       "<Figure size 1000x600 with 1 Axes>"
      ]
     },
     "metadata": {},
     "output_type": "display_data"
    }
   ],
   "source": [
    "import matplotlib.pyplot as plt\n",
    "epochs = range(1,150)\n",
    "plt.figure(figsize=(10, 6))\n",
    "plt.plot(epochs, train_losses, label='Train Losses')\n",
    "plt.plot(epochs, val_losses, label='Validation Losses')\n",
    "plt.plot(epochs, test_losses, label='Test Losses')\n",
    "plt.plot(epochs, auces, label=' Test AUC')\n",
    "\n",
    "plt.title('Train, Validation and Test Metrics ')\n",
    "plt.xlabel('Epochs')\n",
    "plt.ylabel('Metric Value')\n",
    "plt.legend()\n",
    "plt.grid(True)\n",
    "plt.show()"
   ]
  }
 ],
 "metadata": {
  "kernelspec": {
   "display_name": "ml",
   "language": "python",
   "name": "python3"
  },
  "language_info": {
   "codemirror_mode": {
    "name": "ipython",
    "version": 3
   },
   "file_extension": ".py",
   "mimetype": "text/x-python",
   "name": "python",
   "nbconvert_exporter": "python",
   "pygments_lexer": "ipython3",
   "version": "3.10.12"
  }
 },
 "nbformat": 4,
 "nbformat_minor": 2
}
